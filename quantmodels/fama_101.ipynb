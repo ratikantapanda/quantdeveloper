{
 "cells": [
  {
   "cell_type": "code",
   "execution_count": 9,
   "id": "da4f1ded",
   "metadata": {},
   "outputs": [
    {
     "name": "stderr",
     "output_type": "stream",
     "text": [
      "/var/folders/c0/_b6c00gj3x56bbmcgtgs73gr0000gn/T/ipykernel_73666/3017185548.py:10: FutureWarning: YF.download() has changed argument auto_adjust default to True\n",
      "  stock_data = yf.download(\"AAPL\", start=\"2020-01-01\", end=\"2025-01-01\")\n",
      "[*********************100%***********************]  1 of 1 completed"
     ]
    },
    {
     "name": "stderr",
     "output_type": "stream",
     "text": [
      "\n",
      "/var/folders/c0/_b6c00gj3x56bbmcgtgs73gr0000gn/T/ipykernel_73666/3017185548.py:21: FutureWarning: The argument 'date_parser' is deprecated and will be removed in a future version. Please use 'date_format' instead, or read your data in as 'object' dtype and then call 'to_datetime'.\n",
      "  ff3 = pdr.DataReader(\"F-F_Research_Data_Factors_daily\", \"famafrench\")[0]\n"
     ]
    },
    {
     "name": "stdout",
     "output_type": "stream",
     "text": [
      "                            OLS Regression Results                            \n",
      "==============================================================================\n",
      "Dep. Variable:           Excess_Stock   R-squared:                       0.608\n",
      "Model:                            OLS   Adj. R-squared:                  0.607\n",
      "Method:                 Least Squares   F-statistic:                     558.1\n",
      "Date:                Sat, 13 Sep 2025   Prob (F-statistic):          7.95e-219\n",
      "Time:                        17:42:24   Log-Likelihood:                -1615.3\n",
      "No. Observations:                1082   AIC:                             3239.\n",
      "Df Residuals:                    1078   BIC:                             3258.\n",
      "Df Model:                           3                                         \n",
      "Covariance Type:            nonrobust                                         \n",
      "==============================================================================\n",
      "                 coef    std err          t      P>|t|      [0.025      0.975]\n",
      "------------------------------------------------------------------------------\n",
      "const          0.0312      0.033      0.949      0.343      -0.033       0.096\n",
      "Mkt-RF         1.1364      0.034     33.751      0.000       1.070       1.202\n",
      "SMB           -0.2835      0.047     -6.088      0.000      -0.375      -0.192\n",
      "HML           -0.3547      0.033    -10.663      0.000      -0.420      -0.289\n",
      "==============================================================================\n",
      "Omnibus:                      122.856   Durbin-Watson:                   1.977\n",
      "Prob(Omnibus):                  0.000   Jarque-Bera (JB):              670.206\n",
      "Skew:                           0.359   Prob(JB):                    2.93e-146\n",
      "Kurtosis:                       6.788   Cond. No.                         1.87\n",
      "==============================================================================\n",
      "\n",
      "Notes:\n",
      "[1] Standard Errors assume that the covariance matrix of the errors is correctly specified.\n",
      "\n",
      "Alpha: 0.0312, Beta Market: 1.1364, Beta SMB: -0.2835, Beta HML: -0.3547\n"
     ]
    }
   ],
   "source": [
    "# Required libraries\n",
    "import yfinance as yf\n",
    "import pandas as pd\n",
    "import statsmodels.api as sm\n",
    "from pandas_datareader import data as pdr\n",
    "\n",
    "# ---------------------------\n",
    "# 1. Download stock data\n",
    "# ---------------------------\n",
    "stock_data = yf.download(\"AAPL\", start=\"2020-01-01\", end=\"2025-01-01\")\n",
    "\n",
    "# MultiIndex: pick Close prices\n",
    "stock = stock_data['Close']['AAPL']\n",
    "\n",
    "# Compute daily returns\n",
    "stock_ret = stock.pct_change().dropna()\n",
    "\n",
    "# ---------------------------\n",
    "# 2. Download Fama-French 3 factors (daily)\n",
    "# ---------------------------\n",
    "ff3 = pdr.DataReader(\"F-F_Research_Data_Factors_daily\", \"famafrench\")[0]\n",
    "ff3.index = pd.to_datetime(ff3.index)  # ensure datetime index\n",
    "\n",
    "# ---------------------------\n",
    "# 3. Align stock returns with FF factors\n",
    "# ---------------------------\n",
    "data = pd.merge(stock_ret, ff3, left_index=True, right_index=True)\n",
    "data.rename(columns={stock_ret.name: \"Stock\"}, inplace=True)\n",
    "\n",
    "# Compute excess stock return\n",
    "# FF factors are in %, so convert stock returns to %\n",
    "data[\"Excess_Stock\"] = data[\"Stock\"]*100 - data[\"RF\"]\n",
    "\n",
    "# ---------------------------\n",
    "# 4. Run Fama-French 3-Factor regression\n",
    "# ---------------------------\n",
    "X = data[[\"Mkt-RF\", \"SMB\", \"HML\"]]\n",
    "X = sm.add_constant(X)  # adds alpha\n",
    "y = data[\"Excess_Stock\"]\n",
    "\n",
    "model = sm.OLS(y, X).fit()\n",
    "print(model.summary())\n",
    "\n",
    "# ---------------------------\n",
    "# 5. Extract factor loadings\n",
    "# ---------------------------\n",
    "alpha = model.params['const']\n",
    "beta_mkt = model.params['Mkt-RF']\n",
    "beta_smb = model.params['SMB']\n",
    "beta_hml = model.params['HML']\n",
    "\n",
    "print(f\"\\nAlpha: {alpha:.4f}, Beta Market: {beta_mkt:.4f}, Beta SMB: {beta_smb:.4f}, Beta HML: {beta_hml:.4f}\")\n"
   ]
  }
 ],
 "metadata": {
  "kernelspec": {
   "display_name": "py313",
   "language": "python",
   "name": "python3"
  },
  "language_info": {
   "codemirror_mode": {
    "name": "ipython",
    "version": 3
   },
   "file_extension": ".py",
   "mimetype": "text/x-python",
   "name": "python",
   "nbconvert_exporter": "python",
   "pygments_lexer": "ipython3",
   "version": "3.13.7"
  }
 },
 "nbformat": 4,
 "nbformat_minor": 5
}
