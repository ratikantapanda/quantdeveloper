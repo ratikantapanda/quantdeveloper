{
 "cells": [
  {
   "cell_type": "code",
   "execution_count": 11,
   "id": "bc25230e",
   "metadata": {},
   "outputs": [],
   "source": [
    "import yfinance as yf\n",
    "import pandas as pd\n",
    "import statsmodels.api as sm\n",
    "import warnings\n",
    "warnings.filterwarnings(\"ignore\")"
   ]
  },
  {
   "cell_type": "code",
   "execution_count": 15,
   "id": "a5c1632e",
   "metadata": {},
   "outputs": [
    {
     "name": "stdout",
     "output_type": "stream",
     "text": [
      "AAPL: Alpha=0.000552, Beta=1.1733, Expected annual return (CAPM)=15.89%\n",
      "MSFT: Alpha=0.000357, Beta=1.1741, Expected annual return (CAPM)=15.90%\n",
      "GOOGL: Alpha=0.000408, Beta=1.1328, Expected annual return (CAPM)=15.48%\n",
      "AMZN: Alpha=0.000330, Beta=1.0811, Expected annual return (CAPM)=14.96%\n",
      "TSLA: Alpha=0.002204, Beta=1.5778, Expected annual return (CAPM)=19.99%\n",
      "META: Alpha=0.000540, Beta=1.3081, Expected annual return (CAPM)=17.26%\n",
      "NVDA: Alpha=0.002184, Beta=1.7577, Expected annual return (CAPM)=21.81%\n",
      "JPM: Alpha=0.000153, Beta=1.0805, Expected annual return (CAPM)=14.95%\n",
      "V: Alpha=0.000015, Beta=1.0158, Expected annual return (CAPM)=14.29%\n",
      "JNJ: Alpha=-0.000173, Beta=0.4826, Expected annual return (CAPM)=8.89%\n",
      "VOO: Alpha=0.000063, Beta=0.9972, Expected annual return (CAPM)=14.11%\n",
      "VOOG: Alpha=0.000130, Beta=1.0982, Expected annual return (CAPM)=15.13%\n",
      "VGT: Alpha=0.000264, Beta=1.2240, Expected annual return (CAPM)=16.40%\n"
     ]
    }
   ],
   "source": [
    "stocks = [\"AAPL\", \"MSFT\", \"GOOGL\", \"AMZN\", \"TSLA\", \"META\", \"NVDA\", \"JPM\", \"V\", \"JNJ\", 'VOO', 'VOOG', 'VGT']\n",
    "market = yf.download(\"^GSPC\", start=\"2020-01-01\", end=\"2025-09-01\", progress=False)['Close']\n",
    "market_ret = market.pct_change().dropna()\n",
    "rf_daily = 0.04 / 252\n",
    "\n",
    "results = []\n",
    "\n",
    "for ticker in stocks:\n",
    "    stock = yf.download(ticker, start=\"2020-01-01\", end=\"2025-01-01\", progress=False)['Close']\n",
    "    stock_ret = stock.pct_change().dropna()\n",
    "    # Align indexes\n",
    "    data = pd.concat([stock_ret, market_ret], axis=1, join=\"inner\")\n",
    "    data.columns = [\"Stock\", \"Market\"]\n",
    "    data[\"Stock_excess\"] = data[\"Stock\"] - rf_daily\n",
    "    data[\"Market_excess\"] = data[\"Market\"] - rf_daily\n",
    "    X = sm.add_constant(data[\"Market_excess\"])\n",
    "    y = data[\"Stock_excess\"]\n",
    "    model = sm.OLS(y, X).fit()\n",
    "    alpha, beta = model.params\n",
    "    market_premium = data[\"Market\"].mean() * 252 - 0.04  # annualized\n",
    "    expected_return = 0.04 + beta * market_premium\n",
    "    results.append((ticker, alpha, beta, expected_return))\n",
    "\n",
    "for ticker, alpha, beta, expected_return in results:\n",
    "    print(f\"{ticker}: Alpha={alpha:.6f}, Beta={beta:.4f}, Expected annual return (CAPM)={expected_return:.2%}\")"
   ]
  },
  {
   "cell_type": "code",
   "execution_count": null,
   "id": "48e6e025",
   "metadata": {},
   "outputs": [],
   "source": []
  }
 ],
 "metadata": {
  "kernelspec": {
   "display_name": "py313",
   "language": "python",
   "name": "python3"
  },
  "language_info": {
   "codemirror_mode": {
    "name": "ipython",
    "version": 3
   },
   "file_extension": ".py",
   "mimetype": "text/x-python",
   "name": "python",
   "nbconvert_exporter": "python",
   "pygments_lexer": "ipython3",
   "version": "3.13.7"
  }
 },
 "nbformat": 4,
 "nbformat_minor": 5
}
