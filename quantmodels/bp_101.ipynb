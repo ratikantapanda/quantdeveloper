{
 "cells": [
  {
   "cell_type": "code",
   "execution_count": 1,
   "id": "17250b82",
   "metadata": {},
   "outputs": [
    {
     "name": "stderr",
     "output_type": "stream",
     "text": [
      "/var/folders/c0/_b6c00gj3x56bbmcgtgs73gr0000gn/T/ipykernel_74132/253102844.py:11: FutureWarning: Series.__getitem__ treating keys as positions is deprecated. In a future version, integer keys will always be treated as labels (consistent with DataFrame behavior). To access a value by position, use `ser.iloc[pos]`\n",
      "  price = stock.history(period=\"1d\")['Close'][-1]\n"
     ]
    },
    {
     "name": "stdout",
     "output_type": "stream",
     "text": [
      "Book-to-Price ratio for AAPL: 0.0189\n"
     ]
    }
   ],
   "source": [
    "import yfinance as yf\n",
    "\n",
    "# Select a stock\n",
    "ticker = \"AAPL\"\n",
    "stock = yf.Ticker(ticker)\n",
    "\n",
    "# -----------------------------\n",
    "# 1. Get market data\n",
    "# -----------------------------\n",
    "# Latest close price\n",
    "price = stock.history(period=\"1d\")['Close'][-1]\n",
    "\n",
    "# Shares outstanding\n",
    "shares = stock.info['sharesOutstanding']\n",
    "\n",
    "# Market Value of Equity\n",
    "market_cap = price * shares\n",
    "\n",
    "# -----------------------------\n",
    "# 2. Get book value (shareholders equity)\n",
    "# -----------------------------\n",
    "# Book value per share\n",
    "book_value_per_share = stock.info.get('bookValue', None)\n",
    "\n",
    "if book_value_per_share is None:\n",
    "    # fallback: use totalStockholdersEquity from balance sheet\n",
    "    book_value_total = stock.balance_sheet.loc['Total Stockholder Equity'][0]\n",
    "else:\n",
    "    book_value_total = book_value_per_share * shares\n",
    "\n",
    "# -----------------------------\n",
    "# 3. Calculate Book-to-Price ratio\n",
    "# -----------------------------\n",
    "book_to_price = book_value_total / market_cap\n",
    "print(f\"Book-to-Price ratio for {ticker}: {book_to_price:.4f}\")"
   ]
  },
  {
   "cell_type": "code",
   "execution_count": null,
   "id": "242dd304",
   "metadata": {},
   "outputs": [],
   "source": []
  }
 ],
 "metadata": {
  "kernelspec": {
   "display_name": "py313",
   "language": "python",
   "name": "python3"
  },
  "language_info": {
   "codemirror_mode": {
    "name": "ipython",
    "version": 3
   },
   "file_extension": ".py",
   "mimetype": "text/x-python",
   "name": "python",
   "nbconvert_exporter": "python",
   "pygments_lexer": "ipython3",
   "version": "3.13.7"
  }
 },
 "nbformat": 4,
 "nbformat_minor": 5
}
